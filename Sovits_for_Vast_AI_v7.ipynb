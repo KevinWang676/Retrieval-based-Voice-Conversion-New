{
  "nbformat": 4,
  "nbformat_minor": 0,
  "metadata": {
    "colab": {
      "provenance": [],
      "authorship_tag": "ABX9TyNVuVaot0w3Cg8UmirDt0nu",
      "include_colab_link": true
    },
    "kernelspec": {
      "name": "python3",
      "display_name": "Python 3"
    },
    "language_info": {
      "name": "python"
    }
  },
  "cells": [
    {
      "cell_type": "markdown",
      "metadata": {
        "id": "view-in-github",
        "colab_type": "text"
      },
      "source": [
        "<a href=\"https://colab.research.google.com/github/KevinWang676/Retrieval-based-Voice-Conversion-New/blob/main/Sovits_for_Vast_AI_v7.ipynb\" target=\"_parent\"><img src=\"https://colab.research.google.com/assets/colab-badge.svg\" alt=\"Open In Colab\"/></a>"
      ]
    },
    {
      "cell_type": "code",
      "source": [
        "# 在终端里运行 apt install sudo 和 sudo apt-get install build-essential"
      ],
      "metadata": {
        "id": "D0dYxNJXUXZq"
      },
      "execution_count": null,
      "outputs": []
    },
    {
      "cell_type": "code",
      "source": [
        "# 查看pytorch版本 建议2.0.1+cu118\n",
        "import torch\n",
        "print(torch.__version__)"
      ],
      "metadata": {
        "id": "aE6gPOAQQVYp"
      },
      "execution_count": null,
      "outputs": []
    },
    {
      "cell_type": "code",
      "source": [
        "! nvidia-smi"
      ],
      "metadata": {
        "id": "OOIUp4y1QZEm"
      },
      "execution_count": null,
      "outputs": []
    },
    {
      "cell_type": "code",
      "execution_count": null,
      "metadata": {
        "id": "0azACIXRUN2s"
      },
      "outputs": [],
      "source": [
        "! python -m pip install -U pip setuptools wheel\n",
        "! pip install -U so-vits-svc-fork\n",
        "! pip install openai-whisper"
      ]
    },
    {
      "cell_type": "code",
      "source": [
        "import subprocess\n",
        "from pathlib import Path\n",
        "import librosa\n",
        "from scipy.io import wavfile\n",
        "import numpy as np\n",
        "import torch\n",
        "import csv\n",
        "import whisper\n",
        "\n",
        "\n",
        "\n",
        "def split_long_audio(model, filepaths, character_name, save_dir=\"data_dir\", out_sr=44100):\n",
        "    if isinstance(filepaths, str):\n",
        "        filepaths = [filepaths]\n",
        "\n",
        "    for file_idx, filepath in enumerate(filepaths):\n",
        "\n",
        "        save_path = Path(save_dir) / character_name\n",
        "        save_path.mkdir(exist_ok=True, parents=True)\n",
        "\n",
        "        print(f\"Transcribing file {file_idx}: '{filepath}' to segments...\")\n",
        "        result = model.transcribe(filepath, word_timestamps=True, task=\"transcribe\", beam_size=5, best_of=5)\n",
        "        segments = result['segments']\n",
        "\n",
        "        wav, sr = librosa.load(filepath, sr=None, offset=0, duration=None, mono=True)\n",
        "        wav, _ = librosa.effects.trim(wav, top_db=20)\n",
        "        peak = np.abs(wav).max()\n",
        "        if peak > 1.0:\n",
        "            wav = 0.98 * wav / peak\n",
        "        wav2 = librosa.resample(wav, orig_sr=sr, target_sr=out_sr)\n",
        "        wav2 /= max(wav2.max(), -wav2.min())\n",
        "\n",
        "        for i, seg in enumerate(segments):\n",
        "            start_time = seg['start']\n",
        "            end_time = seg['end']\n",
        "            wav_seg = wav2[int(start_time * out_sr):int(end_time * out_sr)]\n",
        "            wav_seg_name = f\"{character_name}_{file_idx}_{i}.wav\"\n",
        "            out_fpath = save_path / wav_seg_name\n",
        "            wavfile.write(out_fpath, rate=out_sr, data=(wav_seg * np.iinfo(np.int16).max).astype(np.int16))\n"
      ],
      "metadata": {
        "id": "N_EywGrmUiLo"
      },
      "execution_count": null,
      "outputs": []
    },
    {
      "cell_type": "code",
      "source": [
        "\"\"\"\n",
        "Here, we override config to have num_workers=0 because\n",
        "of a limitation in HF Spaces Docker /dev/shm.\n",
        "\"\"\"\n",
        "\n",
        "import json\n",
        "from pathlib import Path\n",
        "import multiprocessing\n",
        "\n",
        "def update_config(config_file=\"configs/44k/config.json\"):\n",
        "    config_path = Path(config_file)\n",
        "    data = json.loads(config_path.read_text())\n",
        "    data['train']['batch_size'] = 32\n",
        "    data['train']['eval_interval'] = 500\n",
        "    data['train']['num_workers'] = multiprocessing.cpu_count()\n",
        "    data['train']['persistent_workers'] = True\n",
        "#    data['train']['push_to_hub'] = True\n",
        "#    data['train']['repo_id'] = MODEL_REPO_ID # tuple(data['spk'])[0]\n",
        "#    data['train']['private'] = True\n",
        "    config_path.write_text(json.dumps(data, indent=2, sort_keys=False))"
      ],
      "metadata": {
        "id": "UpNdk48KUrhl"
      },
      "execution_count": null,
      "outputs": []
    },
    {
      "cell_type": "code",
      "source": [
        "filenames = sorted([\"syz0000.wav\", \"syz0001.wav\", \"syz0002.wav\", \"syz0003.wav\", \"syz0004.wav\"]) # 只需上传wav文件；建议命名规则：syz_0000.wav, syz_0001.wav, syz_0002.wav, ..."
      ],
      "metadata": {
        "id": "ABubnV9TeySr"
      },
      "execution_count": null,
      "outputs": []
    },
    {
      "cell_type": "code",
      "source": [
        "whisper_size = \"medium\"\n",
        "whisper_model = whisper.load_model(whisper_size)"
      ],
      "metadata": {
        "id": "JKGqCeqgXOKw"
      },
      "execution_count": null,
      "outputs": []
    },
    {
      "cell_type": "code",
      "source": [
        "split_long_audio(whisper_model, filenames, \"syz\", \"dataset_raw\") # 需要替换歌手名，原本是syz"
      ],
      "metadata": {
        "id": "Y-at_XwAHYUp"
      },
      "execution_count": null,
      "outputs": []
    },
    {
      "cell_type": "code",
      "source": [
        "svc pre-resample\n",
        "svc pre-config\n",
        "svc pre-hubert -fm crepe"
      ],
      "metadata": {
        "id": "KZ50YlC4UrkF"
      },
      "execution_count": null,
      "outputs": []
    },
    {
      "cell_type": "code",
      "source": [
        "update_config()"
      ],
      "metadata": {
        "id": "k2EGvxfyfG-6"
      },
      "execution_count": null,
      "outputs": []
    },
    {
      "cell_type": "code",
      "source": [
        "svc train -t"
      ],
      "metadata": {
        "id": "yaWTQygoRZEs"
      },
      "execution_count": null,
      "outputs": []
    },
    {
      "cell_type": "code",
      "source": [
        "# train cluster"
      ],
      "metadata": {
        "id": "W3QJEZ0wQ2FN"
      },
      "execution_count": null,
      "outputs": []
    },
    {
      "cell_type": "code",
      "source": [
        "! svc train-cluster"
      ],
      "metadata": {
        "id": "IdjWuyhDUro9"
      },
      "execution_count": null,
      "outputs": []
    },
    {
      "cell_type": "code",
      "source": [
        "from huggingface_hub import upload_file\n",
        "\n",
        "upload_file(path_or_fileobj=\"/content/logs/44k/kmeans.pt\", repo_id=MODEL_REPO_ID, path_in_repo=\"kmeans.pt\")"
      ],
      "metadata": {
        "id": "pDemnmTzQQMx"
      },
      "execution_count": null,
      "outputs": []
    }
  ]
}