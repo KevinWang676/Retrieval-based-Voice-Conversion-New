{
  "nbformat": 4,
  "nbformat_minor": 0,
  "metadata": {
    "colab": {
      "provenance": [],
      "authorship_tag": "ABX9TyO7Pc8Jhdqa2hWEcKV5HkWI",
      "include_colab_link": true
    },
    "kernelspec": {
      "name": "python3",
      "display_name": "Python 3"
    },
    "language_info": {
      "name": "python"
    }
  },
  "cells": [
    {
      "cell_type": "markdown",
      "metadata": {
        "id": "view-in-github",
        "colab_type": "text"
      },
      "source": [
        "<a href=\"https://colab.research.google.com/github/KevinWang676/Retrieval-based-Voice-Conversion-New/blob/main/Sovits_for_Vast_AI_v3.ipynb\" target=\"_parent\"><img src=\"https://colab.research.google.com/assets/colab-badge.svg\" alt=\"Open In Colab\"/></a>"
      ]
    },
    {
      "cell_type": "code",
      "source": [
        "# 在终端里运行 apt install sudo 和 sudo apt-get install build-essential"
      ],
      "metadata": {
        "id": "D0dYxNJXUXZq"
      },
      "execution_count": null,
      "outputs": []
    },
    {
      "cell_type": "code",
      "source": [
        "# 查看pytorch版本 建议2.0.1+cu118\n",
        "import torch\n",
        "print(torch.__version__)"
      ],
      "metadata": {
        "id": "aE6gPOAQQVYp"
      },
      "execution_count": null,
      "outputs": []
    },
    {
      "cell_type": "code",
      "source": [
        "! nvidia-smi"
      ],
      "metadata": {
        "id": "OOIUp4y1QZEm"
      },
      "execution_count": null,
      "outputs": []
    },
    {
      "cell_type": "code",
      "execution_count": null,
      "metadata": {
        "id": "0azACIXRUN2s"
      },
      "outputs": [],
      "source": [
        "! pip install git+https://github.com/nateraw/so-vits-svc-fork@main\n",
        "! pip install openai-whisper yt-dlp huggingface_hub demucs"
      ]
    },
    {
      "cell_type": "code",
      "source": [
        "pip install numba==0.56.4"
      ],
      "metadata": {
        "id": "jZyiHjcNUdoI"
      },
      "execution_count": null,
      "outputs": []
    },
    {
      "cell_type": "code",
      "source": [
        "import os\n",
        "os.kill(os.getpid(), 9)"
      ],
      "metadata": {
        "id": "iezUYxJRUT6x"
      },
      "execution_count": null,
      "outputs": []
    },
    {
      "cell_type": "code",
      "source": [
        "from huggingface_hub import login\n",
        "\n",
        "login()"
      ],
      "metadata": {
        "id": "qFyTu6uxUiGm"
      },
      "execution_count": null,
      "outputs": []
    },
    {
      "cell_type": "code",
      "source": [
        "CHARACTER = \"syz\"\n",
        "DO_EXTRACT_VOCALS = True # 是否分离伴奏\n",
        "MODEL_REPO_ID = \"kevinwang676/ai-syz\""
      ],
      "metadata": {
        "id": "a36-ciuqUfaK"
      },
      "execution_count": null,
      "outputs": []
    },
    {
      "cell_type": "code",
      "source": [
        "%%writefile data.csv\n",
        "ytid,start,end\n",
        "https://www.bilibili.com/video/BV12o4y1W7kn,21,1352"
      ],
      "metadata": {
        "id": "FOY2XqVZUiJS"
      },
      "execution_count": null,
      "outputs": []
    },
    {
      "cell_type": "code",
      "source": [
        "import subprocess\n",
        "from pathlib import Path\n",
        "import librosa\n",
        "from scipy.io import wavfile\n",
        "import numpy as np\n",
        "from demucs.pretrained import get_model, DEFAULT_MODEL\n",
        "from demucs.apply import apply_model\n",
        "import torch\n",
        "import csv\n",
        "import whisper\n",
        "\n",
        "\n",
        "def download_youtube_clip(\n",
        "    video_identifier,\n",
        "    start_time,\n",
        "    end_time,\n",
        "    output_filename,\n",
        "    num_attempts=5,\n",
        "    url_base=\"\",\n",
        "    quiet=False,\n",
        "    force=True,\n",
        "):\n",
        "    output_path = Path(output_filename)\n",
        "    if output_path.exists():\n",
        "        if not force:\n",
        "            return output_path\n",
        "        else:\n",
        "            output_path.unlink()\n",
        "\n",
        "    quiet = \"--quiet --no-warnings\" if quiet else \"\"\n",
        "    command = f\"\"\"\n",
        "        yt-dlp {quiet} -x --audio-format wav -f bestaudio -o \"{output_filename}\" --download-sections \"*{start_time}-{end_time}\" \"{url_base}{video_identifier}\"  # noqa: E501\n",
        "    \"\"\".strip()\n",
        "\n",
        "    attempts = 0\n",
        "    while True:\n",
        "        try:\n",
        "            _ = subprocess.check_output(command, shell=True, stderr=subprocess.STDOUT)\n",
        "        except subprocess.CalledProcessError:\n",
        "            attempts += 1\n",
        "            if attempts == num_attempts:\n",
        "                return None\n",
        "        else:\n",
        "            break\n",
        "\n",
        "    if output_path.exists():\n",
        "        return output_path.exists(), \"success\"\n",
        "    else:\n",
        "        return None\n",
        "\n",
        "\n",
        "\n",
        "def split_long_audio(model, filepaths, character_name, save_dir=\"data_dir\", out_sr=44100):\n",
        "    if isinstance(filepaths, str):\n",
        "        filepaths = [filepaths]\n",
        "\n",
        "    for file_idx, filepath in enumerate(filepaths):\n",
        "\n",
        "        save_path = Path(save_dir) / character_name\n",
        "        save_path.mkdir(exist_ok=True, parents=True)\n",
        "\n",
        "        print(f\"Transcribing file {file_idx}: '{filepath}' to segments...\")\n",
        "        result = model.transcribe(filepath, word_timestamps=True, task=\"transcribe\", beam_size=5, best_of=5)\n",
        "        segments = result['segments']\n",
        "\n",
        "        wav, sr = librosa.load(filepath, sr=None, offset=0, duration=None, mono=True)\n",
        "        wav, _ = librosa.effects.trim(wav, top_db=20)\n",
        "        peak = np.abs(wav).max()\n",
        "        if peak > 1.0:\n",
        "            wav = 0.98 * wav / peak\n",
        "        wav2 = librosa.resample(wav, orig_sr=sr, target_sr=out_sr)\n",
        "        wav2 /= max(wav2.max(), -wav2.min())\n",
        "\n",
        "        for i, seg in enumerate(segments):\n",
        "            start_time = seg['start']\n",
        "            end_time = seg['end']\n",
        "            wav_seg = wav2[int(start_time * out_sr):int(end_time * out_sr)]\n",
        "            wav_seg_name = f\"{character_name}_{file_idx}_{i}.wav\"\n",
        "            out_fpath = save_path / wav_seg_name\n",
        "            wavfile.write(out_fpath, rate=out_sr, data=(wav_seg * np.iinfo(np.int16).max).astype(np.int16))\n",
        "\n",
        "\n",
        "def extract_vocal_demucs(model, filename, out_filename, sr=44100, device=None, shifts=1, split=True, overlap=0.25, jobs=0):\n",
        "    wav, sr = librosa.load(filename, mono=False, sr=sr)\n",
        "    wav = torch.tensor(wav)\n",
        "    ref = wav.mean(0)\n",
        "    wav = (wav - ref.mean()) / ref.std()\n",
        "    sources = apply_model(\n",
        "        model,\n",
        "        wav[None],\n",
        "        device=device,\n",
        "        shifts=shifts,\n",
        "        split=split,\n",
        "        overlap=overlap,\n",
        "        progress=True,\n",
        "        num_workers=jobs\n",
        "    )[0]\n",
        "    sources = sources * ref.std() + ref.mean()\n",
        "\n",
        "    wav = sources[-1]\n",
        "    wav = wav / max(1.01 * wav.abs().max(), 1)\n",
        "    wavfile.write(out_filename, rate=sr, data=wav.numpy().T)\n",
        "    return out_filename\n",
        "\n",
        "\n",
        "def create_dataset(\n",
        "    clips_csv_filepath = \"data.csv\",\n",
        "    character = \"somebody\",\n",
        "    do_extract_vocals = True, # 是否分离伴奏\n",
        "    whisper_size = \"medium\",\n",
        "    # Where raw yt clips will be downloaded to\n",
        "    dl_dir = \"downloads\",\n",
        "    # Where actual data will be organized\n",
        "    data_dir = \"dataset_raw\",\n",
        "    **kwargs\n",
        "):\n",
        "    # dl_path = Path(dl_dir) / character\n",
        "\n",
        "    dl_path = \"./downloads/syz/\" # 只需手动创建文件夹；（不需要管）文件夹中的命名规则：syz_0000.wav, syz_0001.wav, syz_0002.wav, ...\n",
        "\n",
        "    # dl_path.mkdir(exist_ok=True, parents=True)\n",
        "    if do_extract_vocals:\n",
        "        demucs_model = get_model(DEFAULT_MODEL)\n",
        "\n",
        "    with Path(clips_csv_filepath).open() as f:\n",
        "        reader = csv.DictReader(f)\n",
        "        for i, row in enumerate(reader):\n",
        "            outfile_path = dl_path / f\"{character}_{i:04d}.wav\"\n",
        "            download_youtube_clip(row['ytid'], row['start'], row['end'], outfile_path)\n",
        "            if do_extract_vocals:\n",
        "                extract_vocal_demucs(demucs_model, outfile_path, outfile_path)\n",
        "\n",
        "    filenames = sorted([str(x) for x in dl_path.glob(\"*.wav\")])\n",
        "    whisper_model = whisper.load_model(whisper_size)\n",
        "    split_long_audio(whisper_model, filenames, character, data_dir)"
      ],
      "metadata": {
        "id": "N_EywGrmUiLo"
      },
      "execution_count": null,
      "outputs": []
    },
    {
      "cell_type": "code",
      "source": [
        "\"\"\"\n",
        "Here, we override config to have num_workers=0 because\n",
        "of a limitation in HF Spaces Docker /dev/shm.\n",
        "\"\"\"\n",
        "\n",
        "import json\n",
        "from pathlib import Path\n",
        "import multiprocessing\n",
        "\n",
        "def update_config(config_file=\"configs/44k/config.json\"):\n",
        "    config_path = Path(config_file)\n",
        "    data = json.loads(config_path.read_text())\n",
        "    data['train']['batch_size'] = 32\n",
        "    data['train']['eval_interval'] = 500\n",
        "    data['train']['num_workers'] = multiprocessing.cpu_count()\n",
        "    data['train']['persistent_workers'] = True\n",
        "    data['train']['push_to_hub'] = True\n",
        "    data['train']['repo_id'] = MODEL_REPO_ID # tuple(data['spk'])[0]\n",
        "    data['train']['private'] = True\n",
        "    config_path.write_text(json.dumps(data, indent=2, sort_keys=False))"
      ],
      "metadata": {
        "id": "UpNdk48KUrhl"
      },
      "execution_count": null,
      "outputs": []
    },
    {
      "cell_type": "code",
      "source": [
        "create_dataset(character=CHARACTER, do_extract_vocals=DO_EXTRACT_VOCALS)\n",
        "! svc pre-resample\n",
        "! svc pre-config\n",
        "! svc pre-hubert -fm crepe\n",
        "update_config()"
      ],
      "metadata": {
        "id": "KZ50YlC4UrkF"
      },
      "execution_count": null,
      "outputs": []
    },
    {
      "cell_type": "code",
      "source": [
        "from __future__ import annotations\n",
        "\n",
        "import os\n",
        "import re\n",
        "import warnings\n",
        "from logging import getLogger\n",
        "from multiprocessing import cpu_count\n",
        "from pathlib import Path\n",
        "from typing import Any\n",
        "\n",
        "import lightning.pytorch as pl\n",
        "import torch\n",
        "from lightning.pytorch.accelerators import MPSAccelerator, TPUAccelerator\n",
        "from lightning.pytorch.loggers import TensorBoardLogger\n",
        "from lightning.pytorch.strategies.ddp import DDPStrategy\n",
        "from lightning.pytorch.tuner import Tuner\n",
        "from torch.cuda.amp import autocast\n",
        "from torch.nn import functional as F\n",
        "from torch.utils.data import DataLoader\n",
        "from torch.utils.tensorboard.writer import SummaryWriter\n",
        "\n",
        "import so_vits_svc_fork.f0\n",
        "import so_vits_svc_fork.modules.commons as commons\n",
        "import so_vits_svc_fork.utils\n",
        "\n",
        "from so_vits_svc_fork import utils\n",
        "from so_vits_svc_fork.dataset import TextAudioCollate, TextAudioDataset\n",
        "from so_vits_svc_fork.logger import is_notebook\n",
        "from so_vits_svc_fork.modules.descriminators import MultiPeriodDiscriminator\n",
        "from so_vits_svc_fork.modules.losses import discriminator_loss, feature_loss, generator_loss, kl_loss\n",
        "from so_vits_svc_fork.modules.mel_processing import mel_spectrogram_torch\n",
        "from so_vits_svc_fork.modules.synthesizers import SynthesizerTrn\n",
        "\n",
        "from so_vits_svc_fork.train import VitsLightning, VCDataModule\n",
        "\n",
        "LOG = getLogger(__name__)\n",
        "torch.set_float32_matmul_precision(\"high\")\n",
        "\n",
        "\n",
        "from pathlib import Path\n",
        "\n",
        "from huggingface_hub import create_repo, upload_folder, login, list_repo_files, delete_file\n",
        "\n",
        "# if os.environ.get(\"HF_TOKEN\"):\n",
        "#     login(os.environ.get(\"HF_TOKEN\"))\n",
        "\n",
        "\n",
        "class HuggingFacePushCallback(pl.Callback):\n",
        "    def __init__(self, repo_id, private=False, every=100):\n",
        "        self.repo_id = repo_id\n",
        "        self.private = private\n",
        "        self.every = every\n",
        "\n",
        "    def on_validation_epoch_end(self, trainer, pl_module):\n",
        "        self.repo_url = create_repo(\n",
        "            repo_id=self.repo_id,\n",
        "            exist_ok=True,\n",
        "            private=self.private\n",
        "        )\n",
        "        self.repo_id = self.repo_url.repo_id\n",
        "        if pl_module.global_step == 0:\n",
        "            return\n",
        "        print(f\"\\n🤗 Pushing to Hugging Face Hub: {self.repo_url}...\")\n",
        "        model_dir = pl_module.hparams.model_dir\n",
        "        upload_folder(\n",
        "            repo_id=self.repo_id,\n",
        "            folder_path=model_dir,\n",
        "            path_in_repo=\".\",\n",
        "            commit_message=\"🍻 cheers\",\n",
        "            ignore_patterns=[\"*.git*\", \"*README.md*\", \"*__pycache__*\"],\n",
        "        )\n",
        "        ckpt_pattern = r'^(D_|G_)\\d+\\.pth$'\n",
        "        todelete = []\n",
        "        repo_ckpts = [x for x in list_repo_files(self.repo_id) if re.match(ckpt_pattern, x) and x not in [\"G_0.pth\", \"D_0.pth\"]]\n",
        "        local_ckpts = [x.name for x in Path(model_dir).glob(\"*.pth\") if re.match(ckpt_pattern, x.name)]\n",
        "        to_delete = set(repo_ckpts) - set(local_ckpts)\n",
        "\n",
        "        for fname in to_delete:\n",
        "            print(f\"🗑 Deleting {fname} from repo\")\n",
        "            delete_file(fname, self.repo_id)\n",
        "\n",
        "\n",
        "def train(\n",
        "    config_path: Path | str, model_path: Path | str, reset_optimizer: bool = False\n",
        "):\n",
        "    config_path = Path(config_path)\n",
        "    model_path = Path(model_path)\n",
        "\n",
        "    hparams = utils.get_backup_hparams(config_path, model_path)\n",
        "    utils.ensure_pretrained_model(model_path, hparams.model.get(\"type_\", \"hifi-gan\"))\n",
        "\n",
        "    datamodule = VCDataModule(hparams)\n",
        "    strategy = (\n",
        "        (\n",
        "            \"ddp_find_unused_parameters_true\"\n",
        "            if os.name != \"nt\"\n",
        "            else DDPStrategy(find_unused_parameters=True, process_group_backend=\"gloo\")\n",
        "        )\n",
        "        if torch.cuda.device_count() > 1\n",
        "        else \"auto\"\n",
        "    )\n",
        "    LOG.info(f\"Using strategy: {strategy}\")\n",
        "\n",
        "    callbacks = []\n",
        "    if hparams.train.push_to_hub:\n",
        "        callbacks.append(HuggingFacePushCallback(hparams.train.repo_id, hparams.train.private))\n",
        "    if not is_notebook():\n",
        "        callbacks.append(pl.callbacks.RichProgressBar())\n",
        "    if callbacks == []:\n",
        "        callbacks = None\n",
        "\n",
        "    trainer = pl.Trainer(\n",
        "        logger=TensorBoardLogger(\n",
        "            model_path, \"lightning_logs\", hparams.train.get(\"log_version\", 0)\n",
        "        ),\n",
        "        # profiler=\"simple\",\n",
        "        val_check_interval=hparams.train.eval_interval,\n",
        "        max_epochs=hparams.train.epochs,\n",
        "        check_val_every_n_epoch=None,\n",
        "        precision=\"16-mixed\"\n",
        "        if hparams.train.fp16_run\n",
        "        else \"bf16-mixed\"\n",
        "        if hparams.train.get(\"bf16_run\", False)\n",
        "        else 32,\n",
        "        strategy=strategy,\n",
        "        callbacks=callbacks,\n",
        "        benchmark=True,\n",
        "        enable_checkpointing=False,\n",
        "    )\n",
        "    tuner = Tuner(trainer)\n",
        "    model = VitsLightning(reset_optimizer=reset_optimizer, **hparams)\n",
        "\n",
        "    # automatic batch size scaling\n",
        "    batch_size = hparams.train.batch_size\n",
        "    batch_split = str(batch_size).split(\"-\")\n",
        "    batch_size = batch_split[0]\n",
        "    init_val = 2 if len(batch_split) <= 1 else int(batch_split[1])\n",
        "    max_trials = 25 if len(batch_split) <= 2 else int(batch_split[2])\n",
        "    if batch_size == \"auto\":\n",
        "        batch_size = \"binsearch\"\n",
        "    if batch_size in [\"power\", \"binsearch\"]:\n",
        "        model.tuning = True\n",
        "        tuner.scale_batch_size(\n",
        "            model,\n",
        "            mode=batch_size,\n",
        "            datamodule=datamodule,\n",
        "            steps_per_trial=1,\n",
        "            init_val=init_val,\n",
        "            max_trials=max_trials,\n",
        "        )\n",
        "        model.tuning = False\n",
        "    else:\n",
        "        batch_size = int(batch_size)\n",
        "    # automatic learning rate scaling is not supported for multiple optimizers\n",
        "    \"\"\"if hparams.train.learning_rate  == \"auto\":\n",
        "    lr_finder = tuner.lr_find(model)\n",
        "    LOG.info(lr_finder.results)\n",
        "    fig = lr_finder.plot(suggest=True)\n",
        "    fig.savefig(model_path / \"lr_finder.png\")\"\"\"\n",
        "\n",
        "    trainer.fit(model, datamodule=datamodule)\n",
        "\n",
        "if __name__ == '__main__':\n",
        "    train('configs/44k/config.json', 'logs/44k')"
      ],
      "metadata": {
        "id": "W2kChh9nUrmV"
      },
      "execution_count": null,
      "outputs": []
    },
    {
      "cell_type": "code",
      "source": [
        "# train cluster"
      ],
      "metadata": {
        "id": "W3QJEZ0wQ2FN"
      },
      "execution_count": null,
      "outputs": []
    },
    {
      "cell_type": "code",
      "source": [
        "! svc train-cluster"
      ],
      "metadata": {
        "id": "IdjWuyhDUro9"
      },
      "execution_count": null,
      "outputs": []
    },
    {
      "cell_type": "code",
      "source": [
        "from huggingface_hub import upload_file\n",
        "\n",
        "upload_file(path_or_fileobj=\"/content/logs/44k/kmeans.pt\", repo_id=MODEL_REPO_ID, path_in_repo=\"kmeans.pt\")"
      ],
      "metadata": {
        "id": "pDemnmTzQQMx"
      },
      "execution_count": null,
      "outputs": []
    }
  ]
}